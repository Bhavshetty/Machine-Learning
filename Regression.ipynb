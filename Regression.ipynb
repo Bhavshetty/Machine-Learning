{
 "cells": [
  {
   "cell_type": "code",
   "execution_count": null,
   "metadata": {},
   "outputs": [],
   "source": [
    "import warnings\n",
    "warnings.filterwarnings('ignore')"
   ]
  },
  {
   "cell_type": "markdown",
   "metadata": {},
   "source": [
    "### Creating Data"
   ]
  },
  {
   "cell_type": "code",
   "execution_count": null,
   "metadata": {},
   "outputs": [],
   "source": [
    "import numpy as np"
   ]
  },
  {
   "cell_type": "code",
   "execution_count": null,
   "metadata": {},
   "outputs": [],
   "source": [
    "np.random.seed(42)"
   ]
  },
  {
   "cell_type": "markdown",
   "metadata": {},
   "source": [
    "Creating input or Independent variable"
   ]
  },
  {
   "cell_type": "code",
   "execution_count": null,
   "metadata": {},
   "outputs": [],
   "source": [
    "#Radians value for angles between  60 and 300\n",
    "x = np.array([i*np.pi/180 for i in range(60, 300,4)])"
   ]
  },
  {
   "cell_type": "code",
   "execution_count": null,
   "metadata": {},
   "outputs": [],
   "source": [
    "x.shape"
   ]
  },
  {
   "cell_type": "markdown",
   "metadata": {},
   "source": [
    "Create Target Variable - Sine value with some noise"
   ]
  },
  {
   "cell_type": "code",
   "execution_count": null,
   "metadata": {},
   "outputs": [],
   "source": [
    "y = np.sin(x) + np.random.normal(0.0, 0.15, x.shape[0])"
   ]
  },
  {
   "cell_type": "markdown",
   "metadata": {},
   "source": [
    "Build a Dataframe"
   ]
  },
  {
   "cell_type": "code",
   "execution_count": null,
   "metadata": {},
   "outputs": [],
   "source": [
    "import pandas as pd"
   ]
  },
  {
   "cell_type": "code",
   "execution_count": null,
   "metadata": {},
   "outputs": [],
   "source": [
    "train_df = pd.DataFrame(np.column_stack([x,y]), columns=['x','y'])"
   ]
  },
  {
   "cell_type": "code",
   "execution_count": null,
   "metadata": {},
   "outputs": [],
   "source": [
    "train_df.shape"
   ]
  },
  {
   "cell_type": "markdown",
   "metadata": {},
   "source": [
    "### Visualize the data"
   ]
  },
  {
   "cell_type": "code",
   "execution_count": null,
   "metadata": {},
   "outputs": [],
   "source": [
    "import matplotlib.pyplot as plt"
   ]
  },
  {
   "cell_type": "code",
   "execution_count": null,
   "metadata": {},
   "outputs": [],
   "source": [
    "plt.plot(train_df['x'],train_df['y'],'.')\n",
    "plt.title('x vs sin(x)')\n",
    "plt.show()"
   ]
  },
  {
   "cell_type": "markdown",
   "metadata": {},
   "source": [
    "### Building a Linear Regression"
   ]
  },
  {
   "cell_type": "code",
   "execution_count": null,
   "metadata": {},
   "outputs": [],
   "source": [
    "from sklearn.linear_model import LinearRegression"
   ]
  },
  {
   "cell_type": "code",
   "execution_count": null,
   "metadata": {},
   "outputs": [],
   "source": [
    "model = LinearRegression(normalize=True)\n",
    "model.fit(train_df[['x']], train_df[['y']])"
   ]
  },
  {
   "cell_type": "markdown",
   "metadata": {},
   "source": [
    "Visualize Prediction"
   ]
  },
  {
   "cell_type": "code",
   "execution_count": null,
   "metadata": {},
   "outputs": [],
   "source": [
    "#Actual data\n",
    "plt.plot(train_df['x'], train_df['y'], '.')\n",
    "\n",
    "#Prediction\n",
    "plt.plot(train_df['x'], model.predict(train_df[['x']]))\n",
    "plt.title('Actual vs Prediction')\n",
    "plt.show()"
   ]
  },
  {
   "cell_type": "markdown",
   "metadata": {},
   "source": [
    "### Add More Complex features\n",
    "Build Polynomial features"
   ]
  },
  {
   "cell_type": "code",
   "execution_count": null,
   "metadata": {},
   "outputs": [],
   "source": [
    "for i in range(2,16):\n",
    "    \n",
    "    train_df['x_' + str(i)] = train_df['x'] ** i"
   ]
  },
  {
   "cell_type": "code",
   "execution_count": null,
   "metadata": {},
   "outputs": [],
   "source": [
    "train_df.head()"
   ]
  },
  {
   "cell_type": "markdown",
   "metadata": {},
   "source": [
    "### Function to Build model with Polynomials"
   ]
  },
  {
   "cell_type": "markdown",
   "metadata": {},
   "source": [
    "Build a Dataframe to store Results"
   ]
  },
  {
   "cell_type": "code",
   "execution_count": null,
   "metadata": {},
   "outputs": [],
   "source": [
    "columns = ['Loss'] + ['W_%d'%i for i in range(1,16)]\n",
    "idx = ['power_%d'%i for i in range(1,16)]\n",
    "results_df = pd.DataFrame(index=idx, columns=columns)"
   ]
  },
  {
   "cell_type": "code",
   "execution_count": null,
   "metadata": {},
   "outputs": [],
   "source": [
    "results_df"
   ]
  },
  {
   "cell_type": "code",
   "execution_count": null,
   "metadata": {},
   "outputs": [],
   "source": [
    "plt.subplots(nrows=5,ncols=3, figsize=(15,15))\n",
    "\n",
    "for i in range(1, 16):\n",
    "    \n",
    "    #Select Features to us\n",
    "    features = ['x']\n",
    "    \n",
    "    for j in range(2,i+1):\n",
    "        \n",
    "        features.append('x_' + str(j))\n",
    "           \n",
    "    #Build Model\n",
    "    model = LinearRegression(normalize=True)\n",
    "    model.fit(train_df[features], train_df[['y']])\n",
    "    \n",
    "    y_pred = model.predict(train_df[features])\n",
    "    \n",
    "    #Plot the output\n",
    "    plt.subplot(5,3,i)\n",
    "    plt.plot(train_df['x'], train_df['y'], '.')\n",
    "    plt.plot(train_df['x'], y_pred)\n",
    "    plt.title('Actual vs Prediction - Power ' + str(i))\n",
    "    \n",
    "    #Calculate metrices\n",
    "    #Loss or Error\n",
    "    results_df.loc['power_' + str(i), 'Loss'] = np.sum(np.square(y_pred - np.array(train_df[['y']])))\n",
    "    \n",
    "    #Get Weights values\n",
    "    for j in range(1, i+1):\n",
    "        \n",
    "        results_df.loc['power_%d'%i, 'W_%d'%j] = model.coef_[0][j-1]    \n",
    "    \n",
    "plt.show()"
   ]
  },
  {
   "cell_type": "code",
   "execution_count": null,
   "metadata": {},
   "outputs": [],
   "source": [
    "results_df"
   ]
  },
  {
   "cell_type": "markdown",
   "metadata": {},
   "source": [
    "### Build L2 Regression"
   ]
  },
  {
   "cell_type": "code",
   "execution_count": null,
   "metadata": {},
   "outputs": [],
   "source": [
    "from sklearn.linear_model import Ridge"
   ]
  },
  {
   "cell_type": "code",
   "execution_count": null,
   "metadata": {},
   "outputs": [],
   "source": [
    "lambda_l2 = [1e-10, 1e-8, 1e-4, 1e-3,1e-2, 1, 5, 10, 20]"
   ]
  },
  {
   "cell_type": "code",
   "execution_count": null,
   "metadata": {},
   "outputs": [],
   "source": [
    "columns = ['Lambda','Loss'] + ['W_%d'%i for i in range(1,16)]\n",
    "idx = ['lambda_%d'%i for i in range(1,len(lambda_l2)+1)]\n",
    "L2_df = pd.DataFrame(index=idx, columns=columns)"
   ]
  },
  {
   "cell_type": "code",
   "execution_count": null,
   "metadata": {},
   "outputs": [],
   "source": [
    "plt.subplots(nrows=3,ncols=3, figsize=(15,15))\n",
    "\n",
    "for i in range(len(lambda_l2)):\n",
    "    \n",
    "    #Select all features\n",
    "    features = ['x']\n",
    "    \n",
    "    for j in range(2,16):\n",
    "        \n",
    "        features.append('x_' + str(j))\n",
    "           \n",
    "    #Build Model\n",
    "    model = Ridge(alpha=lambda_l2[i], normalize=True)\n",
    "    model.fit(train_df[features], train_df[['y']])\n",
    "    \n",
    "    y_pred = model.predict(train_df[features])\n",
    "    \n",
    "    #Plot the output\n",
    "    plt.subplot(3,3,i+1)\n",
    "    plt.plot(train_df['x'], train_df['y'], '.')\n",
    "    plt.plot(train_df['x'], y_pred)\n",
    "    plt.title('Actual vs Prediction - Lambda ' + str(lambda_l2[i]))\n",
    "    \n",
    "    #Calculate metrices\n",
    "    #Loss or Error\n",
    "    L2_df.loc['lambda_' + str(i+1), 'Lambda'] = lambda_l2[i] \n",
    "    L2_df.loc['lambda_' + str(i+1), 'Loss'] = np.sum(np.square(y_pred - np.array(train_df[['y']])))\n",
    "    \n",
    "    #Get Weights values\n",
    "    for j in range(1, 16):\n",
    "        \n",
    "        L2_df.loc['lambda_' + str(i+1), 'W_' + str(j)] = model.coef_[0][j-1]    \n",
    "    \n",
    "plt.show()"
   ]
  },
  {
   "cell_type": "code",
   "execution_count": null,
   "metadata": {},
   "outputs": [],
   "source": [
    "L2_df"
   ]
  },
  {
   "cell_type": "markdown",
   "metadata": {},
   "source": [
    "### L1 Regression (Lasso Regression)"
   ]
  },
  {
   "cell_type": "code",
   "execution_count": null,
   "metadata": {},
   "outputs": [],
   "source": [
    "from sklearn.linear_model import Lasso"
   ]
  },
  {
   "cell_type": "code",
   "execution_count": null,
   "metadata": {},
   "outputs": [],
   "source": [
    "lambda_l1 = [1e-10, 1e-8, 1e-5,1e-4, 1e-3,1e-2, 1, 5, 10]"
   ]
  },
  {
   "cell_type": "code",
   "execution_count": null,
   "metadata": {},
   "outputs": [],
   "source": [
    "columns = ['Lambda','Loss'] + ['W_%d'%i for i in range(1,16)]\n",
    "idx = ['lambda_%d'%i for i in range(1,len(lambda_l1)+1)]\n",
    "L1_df = pd.DataFrame(index=idx, columns=columns)"
   ]
  },
  {
   "cell_type": "code",
   "execution_count": null,
   "metadata": {},
   "outputs": [],
   "source": [
    "plt.subplots(nrows=3,ncols=3, figsize=(15,15))\n",
    "\n",
    "for i in range(len(lambda_l1)):\n",
    "    \n",
    "    #Select all features\n",
    "    features = ['x']\n",
    "    \n",
    "    for j in range(2,16):\n",
    "        \n",
    "        features.append('x_' + str(j))\n",
    "           \n",
    "    #Build Model\n",
    "    model = Lasso(alpha=lambda_l1[i], normalize=True, max_iter=1e5)\n",
    "    model.fit(train_df[features], train_df[['y']])\n",
    "    \n",
    "    y_pred = model.predict(train_df[features])\n",
    "    \n",
    "    #Plot the output\n",
    "    plt.subplot(3,3,i+1)\n",
    "    plt.plot(train_df['x'], train_df['y'], '.')\n",
    "    plt.plot(train_df['x'], y_pred)\n",
    "    plt.title('Actual vs Prediction - Lambda ' + str(lambda_l1[i]))\n",
    "    \n",
    "    #Calculate metrices\n",
    "    #Loss or Error\n",
    "    L1_df.loc['lambda_' + str(i+1), 'Lambda'] = lambda_l1[i] \n",
    "    L1_df.loc['lambda_' + str(i+1), 'Loss'] = np.sum(np.square(y_pred - np.array(train_df[['y']])))\n",
    "    \n",
    "    #Get Weights values\n",
    "    for j in range(1, 16):\n",
    "        \n",
    "        L1_df.loc['lambda_' + str(i+1), 'W_' + str(j)] = model.coef_[j-1]    \n",
    "    \n",
    "plt.show()"
   ]
  },
  {
   "cell_type": "code",
   "execution_count": null,
   "metadata": {},
   "outputs": [],
   "source": [
    "L1_df"
   ]
  }
 ],
 "metadata": {
  "kernelspec": {
   "display_name": "Python 3",
   "language": "python",
   "name": "python3"
  },
  "language_info": {
   "codemirror_mode": {
    "name": "ipython",
    "version": 3
   },
   "file_extension": ".py",
   "mimetype": "text/x-python",
   "name": "python",
   "nbconvert_exporter": "python",
   "pygments_lexer": "ipython3",
   "version": "3.8.5"
  }
 },
 "nbformat": 4,
 "nbformat_minor": 2
}
